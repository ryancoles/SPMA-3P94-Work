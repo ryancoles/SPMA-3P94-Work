{
 "cells": [
  {
   "cell_type": "markdown",
   "metadata": {},
   "source": [
    "## Practice problem\n",
    "The code below loads a dictionary with 2010 NHL season-team information. Specifically, the number of games played, Goals scored for and allowed, and the number of wins and losses. Use for-loops statements to append the following values to the dictionary:\n",
    "* Winning percentage: WP\n",
    "* Goals for squared: GF2, $GF2 = GoalsFor^2$\n",
    "* Goals allowed squared: GA2,  $GA2 = GoalsAllowed^2$\n",
    "* Expected winning percentage: EWP, where $$EWP = \\frac{GoalsFor^2}{GoalsFor^2 + GoalsAllowed^2}$$\n",
    "* Sort the dictionary items in terms of expected winning percentage in descending order"
   ]
  },
  {
   "cell_type": "code",
   "execution_count": 21,
   "metadata": {
    "collapsed": true
   },
   "outputs": [],
   "source": [
    "import json\n",
    "with open('season_team_stats.json', 'r') as f:\n",
    "     teams_dict = json.load(f)\n",
    "        "
   ]
  },
  {
   "cell_type": "code",
   "execution_count": 22,
   "metadata": {
    "collapsed": false
   },
   "outputs": [
    {
     "data": {
      "text/plain": [
       "{'ANA': {'GamesPlayed': 82,\n",
       "  'GoalsAllowed': 233,\n",
       "  'GoalsFor': 235,\n",
       "  'Losses': 35,\n",
       "  'Wins': 47},\n",
       " 'ATL': {'GamesPlayed': 82,\n",
       "  'GoalsAllowed': 262,\n",
       "  'GoalsFor': 218,\n",
       "  'Losses': 48,\n",
       "  'Wins': 34},\n",
       " 'BOS': {'GamesPlayed': 82,\n",
       "  'GoalsAllowed': 189,\n",
       "  'GoalsFor': 244,\n",
       "  'Losses': 36,\n",
       "  'Wins': 46},\n",
       " 'BUF': {'GamesPlayed': 82,\n",
       "  'GoalsAllowed': 228,\n",
       "  'GoalsFor': 240,\n",
       "  'Losses': 39,\n",
       "  'Wins': 43},\n",
       " 'CAR': {'GamesPlayed': 82,\n",
       "  'GoalsAllowed': 234,\n",
       "  'GoalsFor': 231,\n",
       "  'Losses': 42,\n",
       "  'Wins': 40},\n",
       " 'CBJ': {'GamesPlayed': 82,\n",
       "  'GoalsAllowed': 250,\n",
       "  'GoalsFor': 210,\n",
       "  'Losses': 48,\n",
       "  'Wins': 34},\n",
       " 'CGY': {'GamesPlayed': 82,\n",
       "  'GoalsAllowed': 230,\n",
       "  'GoalsFor': 241,\n",
       "  'Losses': 41,\n",
       "  'Wins': 41},\n",
       " 'CHI': {'GamesPlayed': 82,\n",
       "  'GoalsAllowed': 220,\n",
       "  'GoalsFor': 252,\n",
       "  'Losses': 38,\n",
       "  'Wins': 44},\n",
       " 'COL': {'GamesPlayed': 82,\n",
       "  'GoalsAllowed': 287,\n",
       "  'GoalsFor': 221,\n",
       "  'Losses': 52,\n",
       "  'Wins': 30},\n",
       " 'DAL': {'GamesPlayed': 82,\n",
       "  'GoalsAllowed': 226,\n",
       "  'GoalsFor': 222,\n",
       "  'Losses': 40,\n",
       "  'Wins': 42},\n",
       " 'DET': {'GamesPlayed': 82,\n",
       "  'GoalsAllowed': 237,\n",
       "  'GoalsFor': 257,\n",
       "  'Losses': 35,\n",
       "  'Wins': 47},\n",
       " 'EDM': {'GamesPlayed': 82,\n",
       "  'GoalsAllowed': 260,\n",
       "  'GoalsFor': 191,\n",
       "  'Losses': 57,\n",
       "  'Wins': 25},\n",
       " 'FLA': {'GamesPlayed': 82,\n",
       "  'GoalsAllowed': 222,\n",
       "  'GoalsFor': 191,\n",
       "  'Losses': 52,\n",
       "  'Wins': 30},\n",
       " 'LA': {'GamesPlayed': 82,\n",
       "  'GoalsAllowed': 196,\n",
       "  'GoalsFor': 209,\n",
       "  'Losses': 37,\n",
       "  'Wins': 45},\n",
       " 'MIN': {'GamesPlayed': 82,\n",
       "  'GoalsAllowed': 228,\n",
       "  'GoalsFor': 203,\n",
       "  'Losses': 43,\n",
       "  'Wins': 39},\n",
       " 'MTL': {'GamesPlayed': 82,\n",
       "  'GoalsAllowed': 206,\n",
       "  'GoalsFor': 213,\n",
       "  'Losses': 38,\n",
       "  'Wins': 44},\n",
       " 'NJ': {'GamesPlayed': 82,\n",
       "  'GoalsAllowed': 207,\n",
       "  'GoalsFor': 171,\n",
       "  'Losses': 44,\n",
       "  'Wins': 38},\n",
       " 'NSH': {'GamesPlayed': 82,\n",
       "  'GoalsAllowed': 190,\n",
       "  'GoalsFor': 213,\n",
       "  'Losses': 38,\n",
       "  'Wins': 44},\n",
       " 'NYI': {'GamesPlayed': 82,\n",
       "  'GoalsAllowed': 258,\n",
       "  'GoalsFor': 225,\n",
       "  'Losses': 52,\n",
       "  'Wins': 30},\n",
       " 'NYR': {'GamesPlayed': 82,\n",
       "  'GoalsAllowed': 195,\n",
       "  'GoalsFor': 224,\n",
       "  'Losses': 38,\n",
       "  'Wins': 44},\n",
       " 'OTT': {'GamesPlayed': 82,\n",
       "  'GoalsAllowed': 245,\n",
       "  'GoalsFor': 190,\n",
       "  'Losses': 50,\n",
       "  'Wins': 32},\n",
       " 'PHI': {'GamesPlayed': 82,\n",
       "  'GoalsAllowed': 216,\n",
       "  'GoalsFor': 256,\n",
       "  'Losses': 35,\n",
       "  'Wins': 47},\n",
       " 'PHX': {'GamesPlayed': 82,\n",
       "  'GoalsAllowed': 220,\n",
       "  'GoalsFor': 226,\n",
       "  'Losses': 39,\n",
       "  'Wins': 43},\n",
       " 'PIT': {'GamesPlayed': 82,\n",
       "  'GoalsAllowed': 196,\n",
       "  'GoalsFor': 228,\n",
       "  'Losses': 33,\n",
       "  'Wins': 49},\n",
       " 'SJ': {'GamesPlayed': 82,\n",
       "  'GoalsAllowed': 208,\n",
       "  'GoalsFor': 243,\n",
       "  'Losses': 34,\n",
       "  'Wins': 48},\n",
       " 'STL': {'GamesPlayed': 82,\n",
       "  'GoalsAllowed': 228,\n",
       "  'GoalsFor': 236,\n",
       "  'Losses': 44,\n",
       "  'Wins': 38},\n",
       " 'TB': {'GamesPlayed': 82,\n",
       "  'GoalsAllowed': 234,\n",
       "  'GoalsFor': 241,\n",
       "  'Losses': 36,\n",
       "  'Wins': 46},\n",
       " 'TOR': {'GamesPlayed': 82,\n",
       "  'GoalsAllowed': 245,\n",
       "  'GoalsFor': 213,\n",
       "  'Losses': 45,\n",
       "  'Wins': 37},\n",
       " 'VAN': {'GamesPlayed': 82,\n",
       "  'GoalsAllowed': 180,\n",
       "  'GoalsFor': 258,\n",
       "  'Losses': 27,\n",
       "  'Wins': 55},\n",
       " 'WSH': {'GamesPlayed': 82,\n",
       "  'GoalsAllowed': 191,\n",
       "  'GoalsFor': 219,\n",
       "  'Losses': 34,\n",
       "  'Wins': 48}}"
      ]
     },
     "execution_count": 22,
     "metadata": {},
     "output_type": "execute_result"
    }
   ],
   "source": [
    "teams_dict"
   ]
  },
  {
   "cell_type": "code",
   "execution_count": 23,
   "metadata": {
    "collapsed": false
   },
   "outputs": [
    {
     "data": {
      "text/plain": [
       "{'GamesPlayed': 82,\n",
       " 'GoalsAllowed': 233,\n",
       " 'GoalsFor': 235,\n",
       " 'Losses': 35,\n",
       " 'Wins': 47}"
      ]
     },
     "execution_count": 23,
     "metadata": {},
     "output_type": "execute_result"
    }
   ],
   "source": [
    "ANA = teams_dict.pop ('ANA')\n",
    "ANA"
   ]
  },
  {
   "cell_type": "code",
   "execution_count": 24,
   "metadata": {
    "collapsed": false
   },
   "outputs": [
    {
     "data": {
      "text/plain": [
       "82"
      ]
     },
     "execution_count": 24,
     "metadata": {},
     "output_type": "execute_result"
    }
   ],
   "source": [
    "ANA_GP = ANA.pop ('GamesPlayed')\n",
    "ANA_GP"
   ]
  },
  {
   "cell_type": "code",
   "execution_count": 25,
   "metadata": {
    "collapsed": false
   },
   "outputs": [
    {
     "data": {
      "text/plain": [
       "47"
      ]
     },
     "execution_count": 25,
     "metadata": {},
     "output_type": "execute_result"
    }
   ],
   "source": [
    "ANA_W = ANA.pop ('Wins')\n",
    "ANA_W"
   ]
  },
  {
   "cell_type": "code",
   "execution_count": 27,
   "metadata": {
    "collapsed": false
   },
   "outputs": [
    {
     "data": {
      "text/plain": [
       "0.573170731707317"
      ]
     },
     "execution_count": 27,
     "metadata": {},
     "output_type": "execute_result"
    }
   ],
   "source": [
    "ANA_WP = ANA_W / ANA_GP\n",
    "ANA_WP"
   ]
  },
  {
   "cell_type": "code",
   "execution_count": 30,
   "metadata": {
    "collapsed": false
   },
   "outputs": [
    {
     "data": {
      "text/plain": [
       "{'ANA_WP': '0.573170731707317',\n",
       " 'GoalsAllowed': 233,\n",
       " 'GoalsFor': 235,\n",
       " 'Losses': 35}"
      ]
     },
     "execution_count": 30,
     "metadata": {},
     "output_type": "execute_result"
    }
   ],
   "source": [
    "ANA['ANA_WP'] = '0.573170731707317'\n",
    "ANA"
   ]
  },
  {
   "cell_type": "code",
   "execution_count": 31,
   "metadata": {
    "collapsed": false
   },
   "outputs": [
    {
     "data": {
      "text/plain": [
       "55225"
      ]
     },
     "execution_count": 31,
     "metadata": {},
     "output_type": "execute_result"
    }
   ],
   "source": [
    "ANA_GF2 = ANA.pop ('GoalsFor')**2\n",
    "ANA_GF2"
   ]
  },
  {
   "cell_type": "code",
   "execution_count": 32,
   "metadata": {
    "collapsed": false
   },
   "outputs": [
    {
     "data": {
      "text/plain": [
       "{'ANA_GF2': 55225,\n",
       " 'ANA_WP': '0.573170731707317',\n",
       " 'GoalsAllowed': 233,\n",
       " 'Losses': 35}"
      ]
     },
     "execution_count": 32,
     "metadata": {},
     "output_type": "execute_result"
    }
   ],
   "source": [
    "ANA['ANA_GF2'] = 55225\n",
    "ANA"
   ]
  },
  {
   "cell_type": "code",
   "execution_count": 33,
   "metadata": {
    "collapsed": false
   },
   "outputs": [
    {
     "data": {
      "text/plain": [
       "54289"
      ]
     },
     "execution_count": 33,
     "metadata": {},
     "output_type": "execute_result"
    }
   ],
   "source": [
    "ANA_GA2 = ANA.pop ('GoalsAllowed')**2\n",
    "ANA_GA2"
   ]
  },
  {
   "cell_type": "code",
   "execution_count": 34,
   "metadata": {
    "collapsed": false
   },
   "outputs": [
    {
     "data": {
      "text/plain": [
       "{'ANA_GA2': 54289,\n",
       " 'ANA_GF2': 55225,\n",
       " 'ANA_WP': '0.573170731707317',\n",
       " 'Losses': 35}"
      ]
     },
     "execution_count": 34,
     "metadata": {},
     "output_type": "execute_result"
    }
   ],
   "source": [
    "ANA['ANA_GA2'] = 54289\n",
    "ANA"
   ]
  },
  {
   "cell_type": "code",
   "execution_count": 35,
   "metadata": {
    "collapsed": false
   },
   "outputs": [
    {
     "ename": "TypeError",
     "evalue": "unsupported operand type(s) for /: 'str' and 'str'",
     "output_type": "error",
     "traceback": [
      "\u001b[1;31m---------------------------------------------------------------------------\u001b[0m",
      "\u001b[1;31mTypeError\u001b[0m                                 Traceback (most recent call last)",
      "\u001b[1;32m<ipython-input-35-bb09d6719b4c>\u001b[0m in \u001b[0;36m<module>\u001b[1;34m()\u001b[0m\n\u001b[1;32m----> 1\u001b[1;33m \u001b[0mANA_EWP\u001b[0m \u001b[1;33m=\u001b[0m \u001b[0mANA\u001b[0m\u001b[1;33m.\u001b[0m\u001b[0mpop\u001b[0m \u001b[1;33m(\u001b[0m\u001b[1;34m'ANA_GF2'\u001b[0m \u001b[1;33m/\u001b[0m \u001b[1;33m(\u001b[0m\u001b[1;34m'ANA_GF2'\u001b[0m \u001b[1;33m+\u001b[0m \u001b[1;34m'ANA_GA2'\u001b[0m\u001b[1;33m)\u001b[0m\u001b[1;33m)\u001b[0m\u001b[1;33m\u001b[0m\u001b[0m\n\u001b[0m\u001b[0;32m      2\u001b[0m \u001b[0mANA_EWP\u001b[0m\u001b[1;33m\u001b[0m\u001b[0m\n",
      "\u001b[1;31mTypeError\u001b[0m: unsupported operand type(s) for /: 'str' and 'str'"
     ]
    }
   ],
   "source": [
    "ANA_EWP = ANA.pop ('ANA_GF2' / ('ANA_GF2' + 'ANA_GA2'))\n",
    "ANA_EWP"
   ]
  },
  {
   "cell_type": "code",
   "execution_count": null,
   "metadata": {
    "collapsed": true
   },
   "outputs": [],
   "source": []
  }
 ],
 "metadata": {
  "anaconda-cloud": {},
  "kernelspec": {
   "display_name": "Python [Root]",
   "language": "python",
   "name": "Python [Root]"
  },
  "language_info": {
   "codemirror_mode": {
    "name": "ipython",
    "version": 3
   },
   "file_extension": ".py",
   "mimetype": "text/x-python",
   "name": "python",
   "nbconvert_exporter": "python",
   "pygments_lexer": "ipython3",
   "version": "3.5.2"
  }
 },
 "nbformat": 4,
 "nbformat_minor": 2
}
