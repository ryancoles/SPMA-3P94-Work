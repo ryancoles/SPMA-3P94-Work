{
 "cells": [
  {
   "cell_type": "markdown",
   "metadata": {},
   "source": [
    "# Practice questions\n",
    "* Add cells below each question to answer"
   ]
  },
  {
   "cell_type": "markdown",
   "metadata": {},
   "source": [
    "## Objects"
   ]
  },
  {
   "cell_type": "code",
   "execution_count": 5,
   "metadata": {
    "collapsed": true
   },
   "outputs": [],
   "source": [
    "import math"
   ]
  },
  {
   "cell_type": "markdown",
   "metadata": {},
   "source": [
    "The volume of a sphere with radius r is 4/3 π r3. What is the volume of a sphere with radius 5?\n"
   ]
  },
  {
   "cell_type": "code",
   "execution_count": 6,
   "metadata": {},
   "outputs": [
    {
     "data": {
      "text/plain": [
       "523.5987755982989"
      ]
     },
     "execution_count": 6,
     "metadata": {},
     "output_type": "execute_result"
    }
   ],
   "source": [
    "r = 5\n",
    "v = (4/3) * math.pi * r**3\n",
    "v"
   ]
  },
  {
   "cell_type": "markdown",
   "metadata": {},
   "source": [
    "Suppose the cover price of a book is \\$24.95, but bookstores get a 40% discount. Shipping costs $3 for the first copy and 75 cents for each additional copy. What is the total wholesale cost for 60 copies?\n"
   ]
  },
  {
   "cell_type": "code",
   "execution_count": 7,
   "metadata": {},
   "outputs": [
    {
     "data": {
      "text/plain": [
       "850.9499999999999"
      ]
     },
     "execution_count": 7,
     "metadata": {},
     "output_type": "execute_result"
    }
   ],
   "source": [
    "cp = 24.95 * 0.6\n",
    "sc = 3 + (0.75 * 59)\n",
    "wc = (cp * 60) - sc\n",
    "wc"
   ]
  },
  {
   "cell_type": "markdown",
   "metadata": {},
   "source": [
    "## Lists"
   ]
  },
  {
   "cell_type": "markdown",
   "metadata": {},
   "source": [
    "* Make a list that contains the NHL teams located within CAN (can_teams)\n",
    "* Make a list that containts the NHL teams located with the USA (usa_teams)\n",
    "* Create a nested list that contains can_teams and usa_teams"
   ]
  },
  {
   "cell_type": "code",
   "execution_count": 48,
   "metadata": {},
   "outputs": [
    {
     "data": {
      "text/plain": [
       "[['Ott', 'Tor', 'Mtl'], ['Buf', 'Bos']]"
      ]
     },
     "execution_count": 48,
     "metadata": {},
     "output_type": "execute_result"
    }
   ],
   "source": [
    "can_teams = ['Ott', 'Tor', 'Mtl']\n",
    "usa_teams = ['Buf', 'Bos']\n",
    "nhl_teams = [can_teams, usa_teams]\n",
    "nhl_teams"
   ]
  },
  {
   "cell_type": "markdown",
   "metadata": {},
   "source": [
    "## Dictionaries"
   ]
  },
  {
   "cell_type": "markdown",
   "metadata": {},
   "source": [
    "Given the following dictionary: \n",
    "\n",
    "* Add a key to inventory called 'pocket'.\n",
    "* Set the value of 'pocket' to be a list consisting of the strings 'seashell', 'strange berry', and 'lint'.\n",
    "* .sort()the items in the list stored under the 'backpack' key.\n",
    "* Then .remove('dagger') from the list of items stored under the 'backpack' key.\n",
    "* Add 50 to the number stored under the 'gold' key."
   ]
  },
  {
   "cell_type": "code",
   "execution_count": 67,
   "metadata": {
    "collapsed": true
   },
   "outputs": [],
   "source": [
    "inventory = {\n",
    "    'gold' : 500,\n",
    "    'pouch' : ['flint', 'twine', 'gemstone'],\n",
    "    'backpack' : ['xylophone','dagger', 'bedroll','bread loaf']\n",
    "}"
   ]
  },
  {
   "cell_type": "code",
   "execution_count": 68,
   "metadata": {},
   "outputs": [
    {
     "data": {
      "text/plain": [
       "{'backpack': ['xylophone', 'dagger', 'bedroll', 'bread loaf'],\n",
       " 'gold': 500,\n",
       " 'pocket': ('seashell', 'strange berry', 'lint'),\n",
       " 'pouch': ['flint', 'twine', 'gemstone']}"
      ]
     },
     "execution_count": 68,
     "metadata": {},
     "output_type": "execute_result"
    }
   ],
   "source": [
    "inventory['pocket'] = 'seashell', 'strange berry', 'lint'\n",
    "inventory"
   ]
  },
  {
   "cell_type": "code",
   "execution_count": 69,
   "metadata": {},
   "outputs": [
    {
     "data": {
      "text/plain": [
       "['xylophone', 'dagger', 'bread loaf', 'bedroll']"
      ]
     },
     "execution_count": 69,
     "metadata": {},
     "output_type": "execute_result"
    }
   ],
   "source": [
    "sorted(inventory['backpack'], reverse = True)"
   ]
  },
  {
   "cell_type": "code",
   "execution_count": 70,
   "metadata": {},
   "outputs": [
    {
     "data": {
      "text/plain": [
       "{'backpack': ['xylophone', 'bedroll', 'bread loaf'],\n",
       " 'gold': 500,\n",
       " 'pocket': ('seashell', 'strange berry', 'lint'),\n",
       " 'pouch': ['flint', 'twine', 'gemstone']}"
      ]
     },
     "execution_count": 70,
     "metadata": {},
     "output_type": "execute_result"
    }
   ],
   "source": [
    "del inventory['backpack'][1]\n",
    "inventory"
   ]
  },
  {
   "cell_type": "code",
   "execution_count": 71,
   "metadata": {},
   "outputs": [
    {
     "data": {
      "text/plain": [
       "{'backpack': ['xylophone', 'bedroll', 'bread loaf'],\n",
       " 'gold': 550,\n",
       " 'pocket': ('seashell', 'strange berry', 'lint'),\n",
       " 'pouch': ['flint', 'twine', 'gemstone']}"
      ]
     },
     "execution_count": 71,
     "metadata": {},
     "output_type": "execute_result"
    }
   ],
   "source": [
    "inventory['gold'] = inventory['gold'] + 50\n",
    "inventory"
   ]
  },
  {
   "cell_type": "code",
   "execution_count": 73,
   "metadata": {},
   "outputs": [
    {
     "data": {
      "text/plain": [
       "{'backpack': ['xylophone', 'bedroll', 'bread loaf'],\n",
       " 'gold': 400,\n",
       " 'pocket': ('seashell', 'strange berry', 'lint'),\n",
       " 'pouch': ['flint', 'twine', 'gemstone']}"
      ]
     },
     "execution_count": 73,
     "metadata": {},
     "output_type": "execute_result"
    }
   ],
   "source": [
    "inventory['gold'] = 400\n",
    "inventory"
   ]
  },
  {
   "cell_type": "markdown",
   "metadata": {},
   "source": [
    "Create a new dictionary called contries with the following keys:\n",
    "* CAN, USA\n",
    "Embed the can_teams and usa_teams with the countries dictionary so CAN contains the can_teams and USA contain the usa_teams"
   ]
  },
  {
   "cell_type": "code",
   "execution_count": null,
   "metadata": {
    "collapsed": true
   },
   "outputs": [],
   "source": []
  }
 ],
 "metadata": {
  "kernelspec": {
   "display_name": "Python 3",
   "language": "python",
   "name": "python3"
  },
  "language_info": {
   "codemirror_mode": {
    "name": "ipython",
    "version": 3
   },
   "file_extension": ".py",
   "mimetype": "text/x-python",
   "name": "python",
   "nbconvert_exporter": "python",
   "pygments_lexer": "ipython3",
   "version": "3.6.1"
  }
 },
 "nbformat": 4,
 "nbformat_minor": 2
}
